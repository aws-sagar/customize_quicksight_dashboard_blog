{
 "cells": [
  {
   "cell_type": "code",
   "execution_count": 22,
   "metadata": {},
   "outputs": [],
   "source": [
    "# things to note:\n",
    "# setup file creation for installing packages: https://stackoverflow.com/a/4527622/8324498"
   ]
  },
  {
   "cell_type": "code",
   "execution_count": 23,
   "metadata": {},
   "outputs": [],
   "source": [
    "# import statements\n",
    "import boto3\n",
    "import json"
   ]
  },
  {
   "cell_type": "code",
   "execution_count": 24,
   "metadata": {},
   "outputs": [],
   "source": [
    "# initialize quicksight\n",
    "qs_client = boto3.client('quicksight')"
   ]
  },
  {
   "cell_type": "code",
   "execution_count": 25,
   "metadata": {},
   "outputs": [],
   "source": [
    "# initialize the variables\n",
    "aws_account_id = '733585711144'\n",
    "region = 'us-east-1'\n",
    "dashboard_id = 'd280fdec-2adf-45bb-813d-cceece251ec3'\n",
    "target_dataset_id = 'b40f8cfd-adb1-40c4-b972-b4a0289d7a56'\n",
    "target_dataset_identifier = 'Strategic'\n",
    "target_dataset_arn = f'arn:aws:quicksight:{region}:{aws_account_id}:dataset/{target_dataset_id}'\n",
    "sheet_id = 'd280fdec-2adf-45bb-813d-cceece251ec3_642ba41e-f491-4357-bf4a-a2d4eb9638bc'\n",
    "visual_id = 'd280fdec-2adf-45bb-813d-cceece251ec3_52d335ed-bbbc-46bd-98d6-000c81a214e6'\n",
    "replacement_url = 'https://tiny.amazon.com/1dz1oyrsy/aacbs3useaamazawspng'"
   ]
  },
  {
   "cell_type": "code",
   "execution_count": 26,
   "metadata": {},
   "outputs": [],
   "source": [
    "# target dashboard parameters\n",
    "target_dashboard_id = 'StrategicDashboard'\n",
    "target_dashboard_name = 'Strategic'"
   ]
  },
  {
   "cell_type": "code",
   "execution_count": 27,
   "metadata": {},
   "outputs": [],
   "source": [
    "# describe dashbboard\n",
    "dashboard_definition = qs_client.describe_dashboard_definition(AwsAccountId=aws_account_id, DashboardId=dashboard_id)"
   ]
  },
  {
   "cell_type": "code",
   "execution_count": 28,
   "metadata": {},
   "outputs": [],
   "source": [
    "# Optional: download definition\n",
    "with open('./enterpriseDashboard.json', \"w\") as outfile:\n",
    "    json.dump(dashboard_definition, outfile, indent=4)"
   ]
  },
  {
   "cell_type": "code",
   "execution_count": 29,
   "metadata": {},
   "outputs": [],
   "source": [
    "# cleanup residue\n",
    "# for key in ['Status', 'Name', 'DashboardId', 'RequestId', 'ResponseMetadata']:\n",
    "#     dashboard_definition.pop(key)"
   ]
  },
  {
   "cell_type": "code",
   "execution_count": 30,
   "metadata": {},
   "outputs": [],
   "source": [
    "def update_nested_dict(in_dict, key, value):\n",
    "    \"\"\"Replaces the existing value of the key with a new value\n",
    "\n",
    "    Args:\n",
    "        in_dict (dict): dictionary to be executed\n",
    "        key (str): key to search for; example 'DataSetIdentifier' or 'Identifier'...\n",
    "        value (str): value to replace with; example 'NewValue'\n",
    "\n",
    "    Returns:\n",
    "        doesn't return anything but updates the dictionary in place\n",
    "    \"\"\"\n",
    "    for k, v in in_dict.items():\n",
    "        if key == k:\n",
    "            in_dict[k] = value\n",
    "        elif isinstance(v, dict):\n",
    "            update_nested_dict(v, key, value)\n",
    "        elif isinstance(v, list):\n",
    "            for o in v:\n",
    "                if isinstance(o, dict):\n",
    "                    update_nested_dict(o, key, value)"
   ]
  },
  {
   "cell_type": "code",
   "execution_count": 31,
   "metadata": {},
   "outputs": [],
   "source": [
    "# creating object dictionaries\n",
    "dataset_dict = dashboard_definition['Definition']['DataSetIdentifierDeclarations'][0]\n",
    "sheets_dict = dashboard_definition['Definition']['Sheets']\n",
    "for sheet in sheets_dict:\n",
    "    if sheet['SheetId'] == sheet_id:\n",
    "        visuals_in_sheet = sheet['Visuals']\n",
    "        break\n",
    "\n",
    "# update dataset name and arn in the definition\n",
    "update_nested_dict(dataset_dict, 'Identifier', target_dataset_identifier)\n",
    "update_nested_dict(dataset_dict, 'DataSetArn', target_dataset_arn)\n",
    "update_nested_dict(dashboard_definition, 'DataSetIdentifier', target_dataset_identifier)"
   ]
  },
  {
   "cell_type": "code",
   "execution_count": 32,
   "metadata": {},
   "outputs": [],
   "source": [
    "# Optional: store the resultant json locally\n",
    "with open('./modifiedJson.json', 'w') as outfile:\n",
    "    json.dump(dashboard_definition, outfile, indent=4)"
   ]
  },
  {
   "cell_type": "code",
   "execution_count": 33,
   "metadata": {},
   "outputs": [],
   "source": [
    "# update visual URL in your JSON\n",
    "for visual in visuals_in_sheet:\n",
    "    try:\n",
    "       if visual['CustomContentVisual']['VisualId'] == visual_id:\n",
    "        visual['CustomContentVisual']['ChartConfiguration']['ContentUrl'] = replacement_url\n",
    "\n",
    "    except KeyError:\n",
    "        continue"
   ]
  },
  {
   "cell_type": "code",
   "execution_count": 34,
   "metadata": {},
   "outputs": [],
   "source": [
    "# get dashboard permissions\n",
    "dashboard_permissions = qs_client.describe_dashboard_permissions(AwsAccountId=aws_account_id, DashboardId=dashboard_id)['Permissions']"
   ]
  },
  {
   "cell_type": "code",
   "execution_count": 35,
   "metadata": {},
   "outputs": [
    {
     "data": {
      "text/plain": [
       "{'ResponseMetadata': {'RequestId': 'ed1ac878-3bef-4b12-b1af-91c66d9174c0',\n",
       "  'HTTPStatusCode': 202,\n",
       "  'HTTPHeaders': {'date': 'Thu, 26 Jan 2023 18:40:39 GMT',\n",
       "   'content-type': 'application/json',\n",
       "   'content-length': '302',\n",
       "   'connection': 'keep-alive',\n",
       "   'x-amzn-requestid': 'ed1ac878-3bef-4b12-b1af-91c66d9174c0'},\n",
       "  'RetryAttempts': 0},\n",
       " 'Status': 202,\n",
       " 'Arn': 'arn:aws:quicksight:us-east-1:733585711144:dashboard/StrategicDashboard',\n",
       " 'VersionArn': 'arn:aws:quicksight:us-east-1:733585711144:dashboard/StrategicDashboard/version/1',\n",
       " 'DashboardId': 'StrategicDashboard',\n",
       " 'CreationStatus': 'CREATION_IN_PROGRESS',\n",
       " 'RequestId': 'ed1ac878-3bef-4b12-b1af-91c66d9174c0'}"
      ]
     },
     "execution_count": 35,
     "metadata": {},
     "output_type": "execute_result"
    }
   ],
   "source": [
    "# create target dashboard\n",
    "qs_client.create_dashboard(\n",
    "        AwsAccountId=aws_account_id,\n",
    "        DashboardId=target_dashboard_id,\n",
    "        Name=target_dashboard_name,\n",
    "        Definition=dashboard_definition['Definition'],\n",
    "        Permissions=dashboard_permissions\n",
    "    )\n"
   ]
  },
  {
   "cell_type": "code",
   "execution_count": 36,
   "metadata": {},
   "outputs": [
    {
     "data": {
      "text/plain": [
       "{'ResponseMetadata': {'RequestId': 'f4c5658f-7c1e-498f-926a-5581d08b4bda',\n",
       "  'HTTPStatusCode': 200,\n",
       "  'HTTPHeaders': {'date': 'Thu, 26 Jan 2023 18:40:39 GMT',\n",
       "   'content-type': 'application/json',\n",
       "   'content-length': '1151',\n",
       "   'connection': 'keep-alive',\n",
       "   'x-amzn-requestid': 'f4c5658f-7c1e-498f-926a-5581d08b4bda'},\n",
       "  'RetryAttempts': 0},\n",
       " 'Status': 200,\n",
       " 'Dashboard': {'DashboardId': 'StrategicDashboard',\n",
       "  'Arn': 'arn:aws:quicksight:us-east-1:733585711144:dashboard/StrategicDashboard',\n",
       "  'Name': 'Strategic',\n",
       "  'Version': {'CreatedTime': datetime.datetime(2023, 1, 26, 18, 40, 39, 861000, tzinfo=tzlocal()),\n",
       "   'Errors': [],\n",
       "   'VersionNumber': 1,\n",
       "   'Status': 'CREATION_SUCCESSFUL',\n",
       "   'DataSetArns': ['arn:aws:quicksight:us-east-1:733585711144:dataset/b40f8cfd-adb1-40c4-b972-b4a0289d7a56'],\n",
       "   'Sheets': [{'SheetId': 'd280fdec-2adf-45bb-813d-cceece251ec3_642ba41e-f491-4357-bf4a-a2d4eb9638bc',\n",
       "     'Name': 'Sheet 1'}]},\n",
       "  'CreatedTime': datetime.datetime(2023, 1, 26, 18, 40, 39, 457000, tzinfo=tzlocal()),\n",
       "  'LastPublishedTime': datetime.datetime(2023, 1, 26, 18, 40, 39, 457000, tzinfo=tzlocal()),\n",
       "  'LastUpdatedTime': datetime.datetime(2023, 1, 26, 18, 40, 39, 861000, tzinfo=tzlocal())},\n",
       " 'RequestId': 'f4c5658f-7c1e-498f-926a-5581d08b4bda'}"
      ]
     },
     "execution_count": 36,
     "metadata": {},
     "output_type": "execute_result"
    }
   ],
   "source": [
    "# check dashboard status\n",
    "qs_client.describe_dashboard(AwsAccountId=aws_account_id, DashboardId=target_dashboard_id)"
   ]
  },
  {
   "cell_type": "code",
   "execution_count": null,
   "metadata": {},
   "outputs": [],
   "source": []
  }
 ],
 "metadata": {
  "kernelspec": {
   "display_name": "Python 3",
   "language": "python",
   "name": "python3"
  },
  "language_info": {
   "codemirror_mode": {
    "name": "ipython",
    "version": 3
   },
   "file_extension": ".py",
   "mimetype": "text/x-python",
   "name": "python",
   "nbconvert_exporter": "python",
   "pygments_lexer": "ipython3",
   "version": "3.7.15"
  },
  "orig_nbformat": 4,
  "vscode": {
   "interpreter": {
    "hash": "916dbcbb3f70747c44a77c7bcd40155683ae19c65e1c03b4aa3499c5328201f1"
   }
  }
 },
 "nbformat": 4,
 "nbformat_minor": 2
}
